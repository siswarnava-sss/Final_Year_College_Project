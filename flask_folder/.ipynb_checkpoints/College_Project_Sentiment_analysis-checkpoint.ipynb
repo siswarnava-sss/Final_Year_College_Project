{
 "cells": [
  {
   "cell_type": "code",
   "execution_count": 103,
   "id": "5321a203",
   "metadata": {},
   "outputs": [],
   "source": [
    "import requests\n",
    "from vaderSentiment.vaderSentiment import SentimentIntensityAnalyzer\n",
    "import pandas as pd\n",
    "from requests_html import HTMLSession\n",
    "import matplotlib.pyplot as plt\n",
    "\n",
    "def getInfo(companies):\n",
    "    \n",
    "    \n",
    "    list_company=companies.split(\",\")\n",
    "\n",
    "\n",
    "\n",
    "    data=[]\n",
    "    for i in list_company:\n",
    "        try:\n",
    "\n",
    "            company = i.strip().replace(' ','-')\n",
    "\n",
    "            # print(company)\n",
    "\n",
    "\n",
    "            try:\n",
    "                url = \"https://www.ndtv.com/search?searchtext=\"+company\n",
    "                session = HTMLSession()\n",
    "                response = session.get(url)\n",
    "\n",
    "            except requests.exceptions.RequestException as e:\n",
    "                print(\"Enter valid Company\")\n",
    "            get_nav_links = response.html.find('ul.src_lst-ul')\n",
    "\n",
    "            news = get_nav_links[0].text[:get_nav_links[0].text.index(\"More News\")].split(\"\\n\")\n",
    "            # print(news)\n",
    "            news_list=[]\n",
    "\n",
    "            pos=1\n",
    "            for i in range(len(news)):\n",
    "                news_list.append(news[i].split(\"|\"))\n",
    "            # print(news_list)\n",
    "            #extracting date\n",
    "            dates=[]\n",
    "            i=1  \n",
    "            while (i < len(news_list)):\n",
    "\n",
    "                dates.append(news_list[i][-1].split(\",\")[-1])\n",
    "                i=i+4\n",
    "                # print(dates)\n",
    "            # print(\"==================================================\",end=\"\\n\")\n",
    "            #extracting heading\n",
    "            headings=[]\n",
    "\n",
    "            i=0 \n",
    "\n",
    "            while (i < len(news_list)):\n",
    "\n",
    "                headings.append(news_list[i][0])\n",
    "                i=i+4\n",
    "\n",
    "\n",
    "            # print(headings)\n",
    "            j=2\n",
    "            text=[]\n",
    "            while (j < len(news_list)):\n",
    "                text.append(news_list[j][0])\n",
    "                j=j+4\n",
    "            # print(text)\n",
    "            # print(\"==================================================\",end=\"\\n\")\n",
    "\n",
    "            total_text = []\n",
    "\n",
    "            for i,j in zip(text,headings):\n",
    "                total_text.append(i+j)\n",
    "            # print(total_text)\n",
    "\n",
    "            company_name = []\n",
    "            for i in range(len(dates)):\n",
    "                company_name.append(company);\n",
    "            # print(company_name)\n",
    "\n",
    "\n",
    "            for a, b, c in zip(company_name,total_text,dates):\n",
    "\n",
    "                data.append([a, b, c])\n",
    "        except Exception as e:\n",
    "            print(\"ENter the right company name\")\n",
    "\n",
    "\n",
    "\n",
    "    # print(data[0])\n",
    "    df = pd.DataFrame(data,columns =['Company','Total_text','Date'])\n",
    "    df\n",
    "    vader  = SentimentIntensityAnalyzer()\n",
    "    f = lambda text: vader.polarity_scores(text)['compound']\n",
    "    df['Compound'] = df['Total_text'].apply(f)\n",
    "    df['Date'] = df['Date'].astype(int)\n",
    "\n",
    "    mean_df = df.groupby(['Company']).mean()\n",
    "    mean_df.transpose()\n",
    "    ax = mean_df.plot( kind='bar',y='Compound',rot=0)\n",
    "    ax.figure.savefig('plot',\n",
    "                pad_inches = 10)\n",
    "    return mean_df.to_json()"
   ]
  },
  {
   "cell_type": "code",
   "execution_count": 104,
   "id": "08721cb8-1e00-4fd5-b937-163fb5156cb5",
   "metadata": {},
   "outputs": [
    {
     "data": {
      "text/plain": [
       "'{\"Date\":{\"infosys\":2022.0,\"tcs\":2022.0,\"wipro\":2021.8},\"Compound\":{\"infosys\":0.1380066667,\"tcs\":0.5062066667,\"wipro\":0.53378}}'"
      ]
     },
     "execution_count": 104,
     "metadata": {},
     "output_type": "execute_result"
    },
    {
     "data": {
      "image/png": "[encoded data removed]",
      "text/plain": [
       "<Figure size 432x288 with 1 Axes>"
      ]
     },
     "metadata": {
      "needs_background": "light"
     },
     "output_type": "display_data"
    }
   ],
   "source": [
    "\n",
    "\n",
    "getInfo('tcs,infosys,wipro')\n",
    "\n"
   ]
  },
  {
   "cell_type": "code",
   "execution_count": null,
   "id": "c2059f40-b8e2-4112-905d-f324718d5739",
   "metadata": {},
   "outputs": [],
   "source": []
  },
  {
   "cell_type": "code",
   "execution_count": null,
   "id": "d58e8a26-3777-44f6-af18-7beec338c0a4",
   "metadata": {},
   "outputs": [],
   "source": []
  },
  {
   "cell_type": "code",
   "execution_count": null,
   "id": "63062986-26aa-4ed0-a523-d999e5d5f6c2",
   "metadata": {},
   "outputs": [],
   "source": []
  },
  {
   "cell_type": "code",
   "execution_count": null,
   "id": "e3119b54-b0ee-4564-a457-c7b22ae20f56",
   "metadata": {},
   "outputs": [],
   "source": [
    "\n"
   ]
  },
  {
   "cell_type": "code",
   "execution_count": null,
   "id": "e9fe1de1-691a-4855-899e-fff694ef4e1b",
   "metadata": {},
   "outputs": [],
   "source": []
  }
 ],
 "metadata": {
  "kernelspec": {
   "display_name": "Python 3 (ipykernel)",
   "language": "python",
   "name": "python3"
  },
  "language_info": {
   "codemirror_mode": {
    "name": "ipython",
    "version": 3
   },
   "file_extension": ".py",
   "mimetype": "text/x-python",
   "name": "python",
   "nbconvert_exporter": "python",
   "pygments_lexer": "ipython3",
   "version": "3.9.7"
  }
 },
 "nbformat": 4,
 "nbformat_minor": 5
}
