{
 "cells": [
  {
   "cell_type": "code",
   "execution_count": 1,
   "metadata": {},
   "outputs": [],
   "source": [
    "import datetime\n",
    "import pandas as pd"
   ]
  },
  {
   "cell_type": "code",
   "execution_count": 13,
   "metadata": {},
   "outputs": [
    {
     "name": "stdout",
     "output_type": "stream",
     "text": [
      "https://query1.finance.yahoo.com/v7/finance/download/TCS.NS?period1=1500489000&period2=1658687400&interval=1wk&events=history\n",
      "1500489000 1658687400\n"
     ]
    }
   ],
   "source": [
    "stockcode ='TCS'\n",
    "\n",
    "ts1 = str(int(datetime.datetime(2017, 7, 20).timestamp())) \n",
    "ts2 = str(int(datetime.datetime(2022, 7, 25).timestamp()))\n",
    "\n",
    "#interval = '1d'\n",
    "interval = '1wk'\n",
    "#interval = '1mo'\n",
    "\n",
    "events = 'history'\n",
    "#events = 'div'\n",
    "#events = 'split'\n",
    "\n",
    "url = 'https://query1.finance.yahoo.com/v7/finance/download/'\\\n",
    "      + stockcode + '.NS?period1=' + ts1 + '&period2=' + ts2 + '&interval='\\\n",
    "      + interval + '&events=' + events\n",
    "\n",
    "print(url)\n",
    "print (ts1, ts2)"
   ]
  },
  {
   "cell_type": "code",
   "execution_count": 16,
   "metadata": {},
   "outputs": [
    {
     "name": "stdout",
     "output_type": "stream",
     "text": [
      "           Date      Open         High          Low        Close    Adj Close  \\\n",
      "0    2017-07-17  1224.625  1250.000000  1215.250000  1245.599976  1145.025757   \n",
      "1    2017-07-24  1241.000  1292.400024  1221.000000  1242.150024  1141.854248   \n",
      "2    2017-07-31  1235.500  1264.150024  1231.000000  1261.400024  1162.817261   \n",
      "3    2017-08-07  1258.250  1267.500000  1240.599976  1248.025024  1150.487793   \n",
      "4    2017-08-14  1251.500  1274.949951  1231.050049  1256.900024  1158.669312   \n",
      "..          ...       ...          ...          ...          ...          ...   \n",
      "243  2022-03-14  3580.000  3710.000000  3580.000000  3672.750000  3672.750000   \n",
      "244  2022-03-21  3696.000  3779.500000  3615.000000  3707.449951  3707.449951   \n",
      "245  2022-03-28  3695.000  3763.000000  3661.199951  3758.750000  3758.750000   \n",
      "246  2022-04-04  3762.000  3835.600098  3642.500000  3685.649902  3685.649902   \n",
      "247  2022-04-08  3690.000  3705.000000  3642.500000  3685.649902  3685.649902   \n",
      "\n",
      "       Volume  \n",
      "0     3330920  \n",
      "1    12048116  \n",
      "2     8288584  \n",
      "3     6873332  \n",
      "4     6749574  \n",
      "..        ...  \n",
      "243  12107748  \n",
      "244  10486816  \n",
      "245   9588632  \n",
      "246  10631272  \n",
      "247   2296439  \n",
      "\n",
      "[248 rows x 7 columns]\n"
     ]
    }
   ],
   "source": [
    "try:\n",
    "    stockdata = pd.read_csv(url)\n",
    "    print(stockdata)\n",
    "except:\n",
    "    print(\"Not able to fetch value for code : \"+stockcode)\n",
    "    print(\"Either stock code is not correct or could be connectivity issue..\")"
   ]
  },
  {
   "cell_type": "code",
   "execution_count": null,
   "metadata": {},
   "outputs": [],
   "source": []
  }
 ],
 "metadata": {
  "kernelspec": {
   "display_name": "Python 3 (ipykernel)",
   "language": "python",
   "name": "python3"
  },
  "language_info": {
   "codemirror_mode": {
    "name": "ipython",
    "version": 3
   },
   "file_extension": ".py",
   "mimetype": "text/x-python",
   "name": "python",
   "nbconvert_exporter": "python",
   "pygments_lexer": "ipython3",
   "version": "3.9.7"
  }
 },
 "nbformat": 4,
 "nbformat_minor": 4
}
